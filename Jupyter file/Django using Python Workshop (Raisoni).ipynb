{
 "cells": [
  {
   "cell_type": "markdown",
   "id": "e036838c",
   "metadata": {},
   "source": [
    "# Django using Python Workshop\n",
    "Name: Yadish Shaikh <br>\n",
    "Roll number: 201IT028<br>\n",
    "Year: 3rd<br>Branch:Information Technology\n",
    "\n"
   ]
  },
  {
   "cell_type": "markdown",
   "id": "532c83b0",
   "metadata": {},
   "source": [
    "# Day 1: Python Basics\n",
    "22-August-2022\n",
    "<h4>Example number 1: </h4> "
   ]
  },
  {
   "cell_type": "code",
   "execution_count": 1,
   "id": "b0c8f410",
   "metadata": {},
   "outputs": [
    {
     "name": "stdout",
     "output_type": "stream",
     "text": [
      "Enter number: 786\n",
      "Number is Even\n",
      "Thank you!\n"
     ]
    }
   ],
   "source": [
    "x=int(input(\"Enter number: \"))\n",
    "if x % 2==0:\n",
    "      print(\"Number is Even\")\n",
    "else:\n",
    "      print(\"Number is Odd\")\n",
    "print(\"Thank you!\")\n"
   ]
  },
  {
   "cell_type": "markdown",
   "id": "9ef0a416",
   "metadata": {},
   "source": [
    "#### Example number 2:"
   ]
  },
  {
   "cell_type": "code",
   "execution_count": 2,
   "id": "98ccc3b4",
   "metadata": {},
   "outputs": [
    {
     "name": "stdout",
     "output_type": "stream",
     "text": [
      "Enter the 1st number: 69\n",
      "Enter the 2st number: 420\n",
      "69 is Minimum\n",
      "420 is Maximum\n"
     ]
    }
   ],
   "source": [
    "x=int(input(\"Enter the 1st number: \"))\n",
    "y=int(input(\"Enter the 2st number: \"))\n",
    "if(x>y):\n",
    "    print(x,\"is Maximum\")\n",
    "    print(y,\"is Minimum\")\n",
    "else:\n",
    "    print(x,\"is Minimum\")\n",
    "    print(y,\"is Maximum\")\n"
   ]
  },
  {
   "cell_type": "markdown",
   "id": "0fb1587e",
   "metadata": {},
   "source": [
    "#### Example number 3:"
   ]
  },
  {
   "cell_type": "code",
   "execution_count": 3,
   "id": "e9eb9617",
   "metadata": {},
   "outputs": [
    {
     "name": "stdout",
     "output_type": "stream",
     "text": [
      "Enter the year: 2069\n",
      "Not leap year\n"
     ]
    }
   ],
   "source": [
    "x=int(input(\"Enter the year: \"))\n",
    "if(x%400==0)or(x%100!=0)and(x%4==0):\n",
    "    print(\"leap year\")\n",
    "else:\n",
    "    print(\"Not leap year\")"
   ]
  },
  {
   "cell_type": "markdown",
   "id": "54442d96",
   "metadata": {},
   "source": [
    "#### Example number 4: "
   ]
  },
  {
   "cell_type": "code",
   "execution_count": 4,
   "id": "81538334",
   "metadata": {},
   "outputs": [
    {
     "name": "stdout",
     "output_type": "stream",
     "text": [
      "Enter the Age: 42\n",
      "Full ticket\n"
     ]
    }
   ],
   "source": [
    "x=int(input(\"Enter the Age: \"))\n",
    "if(x <=60):\n",
    "    print(\"Full ticket\")\n",
    "elif(x>=60):\n",
    "    print(\"Half ticket\")"
   ]
  },
  {
   "cell_type": "markdown",
   "id": "b0566f5d",
   "metadata": {},
   "source": [
    "#### Example number 5:"
   ]
  },
  {
   "cell_type": "code",
   "execution_count": 5,
   "id": "fd51f5c1",
   "metadata": {},
   "outputs": [
    {
     "name": "stdout",
     "output_type": "stream",
     "text": [
      "Enter the 1st number: 11\n",
      "Enter the 2st number: 22\n",
      "Enter the 3st number: 33\n",
      "33 is maximum\n"
     ]
    }
   ],
   "source": [
    "x=int(input(\"Enter the 1st number: \"))\n",
    "y=int(input(\"Enter the 2st number: \"))\n",
    "z=int(input(\"Enter the 3st number: \"))\n",
    "if(x<z)and(y<z):\n",
    "    print(z,\"is maximum\")\n",
    "elif(y<x)and(z<x):\n",
    "    print(x,\"is maximum\")\n",
    "elif(x<y)and(z<y):\n",
    "    print(y,\"is maximum\")\n",
    "else:\n",
    "    print(\"All numbers are equal\")"
   ]
  },
  {
   "cell_type": "markdown",
   "id": "f01f8ac5",
   "metadata": {},
   "source": [
    "#### Example number 6:"
   ]
  },
  {
   "cell_type": "code",
   "execution_count": 7,
   "id": "f0935ab4",
   "metadata": {},
   "outputs": [
    {
     "name": "stdout",
     "output_type": "stream",
     "text": [
      "Enter the  number: 5\n",
      "5\n",
      "4\n",
      "3\n",
      "2\n",
      "1\n"
     ]
    }
   ],
   "source": [
    "x=int(input(\"Enter the  number: \"))\n",
    "while(x>=1):\n",
    "    print(x)\n",
    "    x-=1"
   ]
  },
  {
   "cell_type": "markdown",
   "id": "a9aee6fc",
   "metadata": {},
   "source": [
    "#### Example number 7: "
   ]
  },
  {
   "cell_type": "code",
   "execution_count": 8,
   "id": "2139a6a4",
   "metadata": {},
   "outputs": [
    {
     "name": "stdout",
     "output_type": "stream",
     "text": [
      "Enter the  number: 5\n",
      "5 * 1 = 5\n",
      "5 * 2 = 10\n",
      "5 * 3 = 15\n",
      "5 * 4 = 20\n",
      "5 * 5 = 25\n",
      "5 * 6 = 30\n",
      "5 * 7 = 35\n",
      "5 * 8 = 40\n",
      "5 * 9 = 45\n",
      "5 * 10 = 50\n"
     ]
    }
   ],
   "source": [
    "x=int(input(\"Enter the  number: \"))\n",
    "i=1\n",
    "while(i<=10):\n",
    "    print(x,\"*\",i,\"=\",x*i)\n",
    "    i+=1"
   ]
  },
  {
   "cell_type": "markdown",
   "id": "47691a9f",
   "metadata": {},
   "source": [
    "#### Example number 8:"
   ]
  },
  {
   "cell_type": "code",
   "execution_count": 9,
   "id": "3a469724",
   "metadata": {},
   "outputs": [
    {
     "name": "stdout",
     "output_type": "stream",
     "text": [
      "Enter the number:  5\n",
      "120\n"
     ]
    }
   ],
   "source": [
    "x=int(input(\"Enter the number: \"))\n",
    "n=1\n",
    "while(x>=1):\n",
    "    n=n*x\n",
    "    x=x-1\n",
    "print(n)"
   ]
  },
  {
   "cell_type": "markdown",
   "id": "8b0274ce",
   "metadata": {},
   "source": [
    "#### Example number 9:"
   ]
  },
  {
   "cell_type": "code",
   "execution_count": 11,
   "id": "1b410fdd",
   "metadata": {},
   "outputs": [
    {
     "name": "stdout",
     "output_type": "stream",
     "text": [
      "Enter the number: 5\n",
      "5\n",
      "4\n",
      "3\n",
      "2\n",
      "1\n"
     ]
    }
   ],
   "source": [
    "x=int(input(\"Enter the number: \"))\n",
    "for i in range(x,0,-1):\n",
    "    print(i)"
   ]
  },
  {
   "cell_type": "markdown",
   "id": "916905d9",
   "metadata": {},
   "source": [
    "#### Example number 10:"
   ]
  },
  {
   "cell_type": "code",
   "execution_count": 13,
   "id": "9abc3e9a",
   "metadata": {},
   "outputs": [
    {
     "name": "stdout",
     "output_type": "stream",
     "text": [
      "Enter the 1st number: 420\n",
      "Enter the 2st number: 69\n",
      "69 420\n"
     ]
    }
   ],
   "source": [
    "x=int(input(\"Enter the 1st number: \"))\n",
    "y=int(input(\"Enter the 2st number: \"))\n",
    "\n",
    "#x,y=y,x\n",
    "#print(x,y)\n",
    "\n",
    "#x=x+y\n",
    "#y=x-y\n",
    "#x=x-y\n",
    "#print(x,y)\n",
    "\n",
    "temp=0\n",
    "temp=x\n",
    "x=y\n",
    "y=temp\n",
    "print(x,y)"
   ]
  },
  {
   "cell_type": "markdown",
   "id": "bc8ecbea",
   "metadata": {},
   "source": [
    "# Day 2: Python\n",
    "23-August-2022\n",
    "<h4>Example number 1: </h4>"
   ]
  },
  {
   "cell_type": "code",
   "execution_count": 14,
   "id": "f74894b2",
   "metadata": {},
   "outputs": [
    {
     "name": "stdout",
     "output_type": "stream",
     "text": [
      "[10, 20, 30, 40, 50]\n",
      "Type= <class 'list'>\n",
      "10\n",
      "20\n",
      "30\n",
      "40\n",
      "50\n"
     ]
    }
   ],
   "source": [
    "list1=[10,20,30,40,50]\n",
    "print(list1)\n",
    "print(\"Type=\",type(list1))\n",
    "\n",
    "for x in list1:\n",
    "    print(x)"
   ]
  },
  {
   "cell_type": "markdown",
   "id": "3fc3aa4d",
   "metadata": {},
   "source": [
    "#### Example number 2: "
   ]
  },
  {
   "cell_type": "code",
   "execution_count": 15,
   "id": "184dbb3d",
   "metadata": {},
   "outputs": [
    {
     "name": "stdout",
     "output_type": "stream",
     "text": [
      "[10, 20, 30, 40, 50]\n",
      "Type= <class 'list'>\n",
      "10\n",
      "20\n",
      "30\n",
      "40\n",
      "50\n"
     ]
    }
   ],
   "source": [
    "list1=list((10,20,30,40,50))\n",
    "print(list1)\n",
    "print(\"Type=\",type(list1))\n",
    "\n",
    "for x in list1:\n",
    "    print(x)"
   ]
  },
  {
   "cell_type": "markdown",
   "id": "46cf22cb",
   "metadata": {},
   "source": [
    "#### Example number 3:"
   ]
  },
  {
   "cell_type": "code",
   "execution_count": 16,
   "id": "f80b7220",
   "metadata": {},
   "outputs": [
    {
     "name": "stdout",
     "output_type": "stream",
     "text": [
      "150\n"
     ]
    }
   ],
   "source": [
    "list1=[10,20,30,40,50]\n",
    "sum1=0\n",
    "for x in list1:\n",
    "    sum1=sum1+x\n",
    "\n",
    "print(sum1)"
   ]
  },
  {
   "cell_type": "markdown",
   "id": "87c7c600",
   "metadata": {},
   "source": [
    "#### Example number 4:"
   ]
  },
  {
   "cell_type": "code",
   "execution_count": 17,
   "id": "2b104ee3",
   "metadata": {},
   "outputs": [
    {
     "name": "stdout",
     "output_type": "stream",
     "text": [
      "<class 'set'>\n",
      "40\n",
      "10\n",
      "50\n",
      "20\n",
      "30\n"
     ]
    }
   ],
   "source": [
    "myset={10,20,30,40,50}\n",
    "\n",
    "print(type(myset))\n",
    "\n",
    "for x in myset:\n",
    "    print(x)"
   ]
  },
  {
   "cell_type": "markdown",
   "id": "d4c7abf0",
   "metadata": {},
   "source": [
    "#### Example number 5:"
   ]
  },
  {
   "cell_type": "code",
   "execution_count": 18,
   "id": "b632fea6",
   "metadata": {},
   "outputs": [
    {
     "name": "stdout",
     "output_type": "stream",
     "text": [
      "<class 'tuple'>\n",
      "10\n",
      "20\n",
      "30\n",
      "40\n",
      "50\n"
     ]
    }
   ],
   "source": [
    "mytuple=(10,20,30,40,50)\n",
    "\n",
    "print(type(mytuple))\n",
    "\n",
    "for x in mytuple:\n",
    "    print(x)"
   ]
  },
  {
   "cell_type": "markdown",
   "id": "39729518",
   "metadata": {},
   "source": [
    "#### Example number 6:"
   ]
  },
  {
   "cell_type": "code",
   "execution_count": 19,
   "id": "f56c863a",
   "metadata": {},
   "outputs": [
    {
     "name": "stdout",
     "output_type": "stream",
     "text": [
      "<class 'dict'>\n",
      "{'roll': 101, 'name': 'Passion', 'city': 'Jalgaon'}\n",
      "101\n",
      "Passion\n",
      "Jalgaon\n"
     ]
    }
   ],
   "source": [
    "mydict={\n",
    "          'roll':101,\n",
    "          'name':'Passion',\n",
    "          'city':'Jalgaon'\n",
    "       }\n",
    "\n",
    "print(type(mydict))\n",
    "print(mydict)\n",
    "print(mydict['roll'])\n",
    "print(mydict['name'])\n",
    "print(mydict['city'])"
   ]
  },
  {
   "cell_type": "markdown",
   "id": "e4a5a66c",
   "metadata": {},
   "source": [
    "#### Example number 7:"
   ]
  },
  {
   "cell_type": "code",
   "execution_count": 20,
   "id": "75812c93",
   "metadata": {},
   "outputs": [
    {
     "name": "stdout",
     "output_type": "stream",
     "text": [
      "<class 'dict'>\n",
      "{'data': [10, 20, 30, 40, 50]}\n",
      "[10, 20, 30, 40, 50]\n"
     ]
    }
   ],
   "source": [
    "list1=[10,20,30,40,50]\n",
    "mydict={\n",
    "          'data':list1\n",
    "       }\n",
    "\n",
    "print(type(mydict))\n",
    "print(mydict)\n",
    "print(mydict['data'])\n"
   ]
  },
  {
   "cell_type": "markdown",
   "id": "540a0abc",
   "metadata": {},
   "source": [
    "#### Example number 8:"
   ]
  },
  {
   "cell_type": "code",
   "execution_count": 21,
   "id": "a805ba25",
   "metadata": {},
   "outputs": [
    {
     "name": "stdout",
     "output_type": "stream",
     "text": [
      "My user define function call\n"
     ]
    }
   ],
   "source": [
    "#no value pass, no value return\n",
    "def myfun():\n",
    "    print(\"My user define function call\")\n",
    "\n",
    "\n",
    "myfun()#fun call"
   ]
  },
  {
   "cell_type": "markdown",
   "id": "2f53aaaf",
   "metadata": {},
   "source": [
    "#### Example number 9:"
   ]
  },
  {
   "cell_type": "code",
   "execution_count": 26,
   "id": "a5dd1cf5",
   "metadata": {},
   "outputs": [
    {
     "name": "stdout",
     "output_type": "stream",
     "text": [
      "Add= 30\n"
     ]
    }
   ],
   "source": [
    "#value pass, no value return\n",
    "def myfun(x,y):\n",
    "    add=x+y\n",
    "    print(\"Add=\",add)\n",
    "\n",
    "myfun(10,20)#fun call"
   ]
  },
  {
   "cell_type": "markdown",
   "id": "0fa97ae3",
   "metadata": {},
   "source": [
    "#### Example number 10:"
   ]
  },
  {
   "cell_type": "code",
   "execution_count": 27,
   "id": "ee64d375",
   "metadata": {},
   "outputs": [
    {
     "name": "stdout",
     "output_type": "stream",
     "text": [
      "Result= 30\n"
     ]
    }
   ],
   "source": [
    "#value pass,value return\n",
    "def myfun(x,y):\n",
    "    add=x+y\n",
    "    return add\n",
    "\n",
    "res=myfun(10,20)#fun call\n",
    "print(\"Result=\",res)"
   ]
  },
  {
   "cell_type": "markdown",
   "id": "993cb418",
   "metadata": {},
   "source": [
    "#### Example number 11:"
   ]
  },
  {
   "cell_type": "code",
   "execution_count": 28,
   "id": "5869364b",
   "metadata": {},
   "outputs": [
    {
     "name": "stdout",
     "output_type": "stream",
     "text": [
      "10 20\n",
      "20 10\n"
     ]
    }
   ],
   "source": [
    "def myswap(x,y):\n",
    "    return y,x\n",
    "    \n",
    "a=10\n",
    "b=20\n",
    "print(a,b)\n",
    "a,b=myswap(a,b)\n",
    "print(a,b)"
   ]
  },
  {
   "cell_type": "markdown",
   "id": "b1c24235",
   "metadata": {},
   "source": [
    "#### Example number 12:"
   ]
  },
  {
   "cell_type": "markdown",
   "id": "a6b39f4d",
   "metadata": {},
   "source": [
    "mymodule.py"
   ]
  },
  {
   "cell_type": "code",
   "execution_count": 31,
   "id": "a632265d",
   "metadata": {},
   "outputs": [],
   "source": [
    "def show():\n",
    "    print(\"My Module\")"
   ]
  },
  {
   "cell_type": "markdown",
   "id": "c29b33bd",
   "metadata": {},
   "source": [
    "passion.py"
   ]
  },
  {
   "cell_type": "code",
   "execution_count": 37,
   "id": "8a5e05e5",
   "metadata": {
    "scrolled": true
   },
   "outputs": [
    {
     "name": "stdout",
     "output_type": "stream",
     "text": [
      "My Module\n"
     ]
    }
   ],
   "source": [
    "import mymodule\n",
    "mymodule.show()"
   ]
  },
  {
   "cell_type": "markdown",
   "id": "5016c563",
   "metadata": {},
   "source": [
    "#### Example number 13:"
   ]
  },
  {
   "cell_type": "markdown",
   "id": "03a6b807",
   "metadata": {},
   "source": [
    "mymodule1.py"
   ]
  },
  {
   "cell_type": "code",
   "execution_count": 35,
   "id": "5bed5725",
   "metadata": {},
   "outputs": [],
   "source": [
    "def show(x,y):\n",
    "    return x+y"
   ]
  },
  {
   "cell_type": "markdown",
   "id": "11caddaf",
   "metadata": {},
   "source": [
    "passion1.py"
   ]
  },
  {
   "cell_type": "code",
   "execution_count": 40,
   "id": "857c3b7a",
   "metadata": {},
   "outputs": [
    {
     "name": "stdout",
     "output_type": "stream",
     "text": [
      "Result= 30\n"
     ]
    }
   ],
   "source": [
    "from mymodule1 import*\n",
    "res=show(10,20)\n",
    "print(\"Result=\",res)"
   ]
  },
  {
   "cell_type": "markdown",
   "id": "2313103f",
   "metadata": {},
   "source": [
    "#### Example number 14:"
   ]
  },
  {
   "cell_type": "code",
   "execution_count": 41,
   "id": "6f716e15",
   "metadata": {},
   "outputs": [
    {
     "name": "stdout",
     "output_type": "stream",
     "text": [
      "101\n",
      "Passion\n"
     ]
    }
   ],
   "source": [
    "class Student:\n",
    "    roll=101\n",
    "    name=\"Passion\"\n",
    "\n",
    "s1=Student()\n",
    "print(s1.roll)\n",
    "print(s1.name)"
   ]
  },
  {
   "cell_type": "markdown",
   "id": "86ec9535",
   "metadata": {},
   "source": [
    "#### Example number 15:"
   ]
  },
  {
   "cell_type": "code",
   "execution_count": 43,
   "id": "95e71190",
   "metadata": {},
   "outputs": [
    {
     "name": "stdout",
     "output_type": "stream",
     "text": [
      "101\n",
      "Passion\n"
     ]
    }
   ],
   "source": [
    "class Student:\n",
    "    roll=101\n",
    "    name=\"Passion\"\n",
    "\n",
    "    def show(abc):\n",
    "        print(abc.roll)\n",
    "        print(abc.name)\n",
    "        \n",
    "s1=Student()\n",
    "s1.show()"
   ]
  },
  {
   "cell_type": "markdown",
   "id": "e95f5d8c",
   "metadata": {},
   "source": [
    "#### Example number 16:"
   ]
  },
  {
   "cell_type": "code",
   "execution_count": 44,
   "id": "12c33069",
   "metadata": {},
   "outputs": [
    {
     "name": "stdout",
     "output_type": "stream",
     "text": [
      "101\n",
      "Passion\n"
     ]
    }
   ],
   "source": [
    "class Student:\n",
    "\n",
    "    def __init__(self):\n",
    "        self.roll=101\n",
    "        self.name=\"Passion\"\n",
    "\n",
    "    def show(self):\n",
    "        print(self.roll)\n",
    "        print(self.name)\n",
    "        \n",
    "s1=Student()\n",
    "s1.show()"
   ]
  },
  {
   "cell_type": "markdown",
   "id": "da36e2e3",
   "metadata": {},
   "source": [
    "### Homework example:"
   ]
  },
  {
   "cell_type": "code",
   "execution_count": 46,
   "id": "f0d76882",
   "metadata": {},
   "outputs": [
    {
     "name": "stdout",
     "output_type": "stream",
     "text": [
      "even no:= 2\n",
      "even no:= 4\n",
      "even no:= 6\n",
      "even no:= 8\n",
      "even no:= 54\n",
      "Thank you\n"
     ]
    }
   ],
   "source": [
    "list1=[2,21,4,5,6,7,8,54,33]\n",
    "for x in list1:\n",
    "    if (x % 2 == 0):\n",
    "        print(\"even no:=\",x)\n",
    "        \n",
    "print(\"Thank you\")"
   ]
  },
  {
   "cell_type": "markdown",
   "id": "001de06c",
   "metadata": {},
   "source": [
    "# Day 3: Python & HTML\n",
    "24-August-2022\n",
    "<h4>Example number 1: </h4>"
   ]
  },
  {
   "cell_type": "code",
   "execution_count": null,
   "id": "810f2f19",
   "metadata": {},
   "outputs": [],
   "source": []
  }
 ],
 "metadata": {
  "kernelspec": {
   "display_name": "Python 3 (ipykernel)",
   "language": "python",
   "name": "python3"
  },
  "language_info": {
   "codemirror_mode": {
    "name": "ipython",
    "version": 3
   },
   "file_extension": ".py",
   "mimetype": "text/x-python",
   "name": "python",
   "nbconvert_exporter": "python",
   "pygments_lexer": "ipython3",
   "version": "3.7.9"
  }
 },
 "nbformat": 4,
 "nbformat_minor": 5
}
